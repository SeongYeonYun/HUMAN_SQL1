{
 "cells": [
  {
   "cell_type": "code",
   "execution_count": 211,
   "id": "72f79ca8-6d3c-4843-857d-37fc931ec53d",
   "metadata": {},
   "outputs": [],
   "source": [
    "import numpy as np\n",
    "import pandas as pd\n",
    "from lightgbm import LGBMRegressor\n",
    "from sklearn.preprocessing import LabelEncoder\n",
    "from sklearn.model_selection import train_test_split\n",
    "\n",
    "#############train 컬럼 설명#######################\n",
    "#ID : 샘플별 고유 ID\n",
    "# gender : 성별\n",
    "# age : 연령\n",
    "# height : 키(cm)\n",
    "# weight : 몸무게(kg)\n",
    "# cholesterol : 콜레스테롤 수치\n",
    "# systolic_blood_pressure : 수축기 혈압\n",
    "# diastolic_blood_pressure : 이완기 혈압\n",
    "# glucose : 혈당 수치(mg/dL)\n",
    "# bone_density : 골밀도(g/cm²)\n",
    "# activity : 생활시 운동 강도\n",
    "# smoke_status : 흡연 상태\n",
    "# medical_history : 만성질환\n",
    "# family_medical_history : 가족력\n",
    "# sleep_pattern : 수면패턴\n",
    "# edu_level : 학력\n",
    "# mean_working : 1주일당 평균 근로 시간\n",
    "# stress_score : (TARGET) 스트레스 점수 \n",
    "\n",
    "\n",
    "###############test 컬럼 설명######################\n",
    "# ID : 샘플별 고유 ID\n",
    "# gender : 성별\n",
    "# age : 연령\n",
    "# height : 키(cm)\n",
    "# weight : 몸무게(kg)\n",
    "# cholesterol : 콜레스테롤 수치\n",
    "# systolic_blood_pressure : 수축기 혈압\n",
    "# diastolic_blood_pressure : 이완기 혈압\n",
    "# glucose : 혈당 수치(mg/dL)\n",
    "# bone_density : 골밀도(g/cm²)\n",
    "# activity : 생활시 운동 강도\n",
    "# smoke_status : 흡연 상태\n",
    "# medical_history : 만성질환\n",
    "# family_medical_history : 가족력\n",
    "# sleep_pattern : 수면패턴\n",
    "# edu_level : 학력\n",
    "# mean_working : 1주일당 평균 근로 시간\n",
    "\n",
    "\n",
    "#########sample_submission.csv [파일] - 제출양식#######\n",
    "# ID : 샘플별 고유 ID\n",
    "# stress_score : (TARGET) 스트레스 점수\n"
   ]
  },
  {
   "cell_type": "code",
   "execution_count": 212,
   "id": "ee6a5e63-142e-4f65-ad0a-625c8a49a274",
   "metadata": {},
   "outputs": [],
   "source": [
    "#train_data\n",
    "train = pd.read_csv('D:\\\\workspace_1\\\\dacon_venv\\\\test\\\\dataset\\\\train.csv')\n",
    "\n",
    "#test data\n",
    "test = pd.read_csv('D:\\\\workspace_1\\\\dacon_venv\\\\test\\\\dataset\\\\test.csv')"
   ]
  },
  {
   "cell_type": "code",
   "execution_count": 213,
   "id": "cd54cd00-e289-4c1a-be8d-c5b608bc0e2f",
   "metadata": {
    "scrolled": true
   },
   "outputs": [
    {
     "data": {
      "text/plain": [
       "<bound method DataFrame.count of               ID gender  age  height  weight  cholesterol  \\\n",
       "0     TRAIN_0000      F   72  161.49   58.47       279.84   \n",
       "1     TRAIN_0001      M   88  179.87   77.60       257.37   \n",
       "2     TRAIN_0002      M   47  182.47   89.93       226.66   \n",
       "3     TRAIN_0003      M   69  185.78   68.63       206.74   \n",
       "4     TRAIN_0004      F   81  164.63   71.53       255.92   \n",
       "...          ...    ...  ...     ...     ...          ...   \n",
       "2995  TRAIN_2995      F   87  174.43   77.14       233.31   \n",
       "2996  TRAIN_2996      M   25  171.44   51.67       196.89   \n",
       "2997  TRAIN_2997      F   54  162.13   55.54       210.52   \n",
       "2998  TRAIN_2998      M   70  181.32   82.20       234.10   \n",
       "2999  TRAIN_2999      M   86  179.46   69.31       254.63   \n",
       "\n",
       "      systolic_blood_pressure  diastolic_blood_pressure  glucose  \\\n",
       "0                         165                       100   143.35   \n",
       "1                         178                       111   146.94   \n",
       "2                         134                        95   142.61   \n",
       "3                         158                        92   137.26   \n",
       "4                         171                       116   129.37   \n",
       "...                       ...                       ...      ...   \n",
       "2995                      176                       111   134.71   \n",
       "2996                      143                        86   111.91   \n",
       "2997                      164                        91   136.47   \n",
       "2998                      182                        91   144.89   \n",
       "2999                      149                        94   154.92   \n",
       "\n",
       "      bone_density  activity    smoke_status      medical_history  \\\n",
       "0             0.87  moderate       ex-smoker  high blood pressure   \n",
       "1             0.07  moderate       ex-smoker                  NaN   \n",
       "2             1.18     light       ex-smoker                  NaN   \n",
       "3             0.48   intense       ex-smoker  high blood pressure   \n",
       "4             0.34  moderate       ex-smoker             diabetes   \n",
       "...            ...       ...             ...                  ...   \n",
       "2995          0.20     light      non-smoker                  NaN   \n",
       "2996          1.75  moderate  current-smoker                  NaN   \n",
       "2997          0.80     light  current-smoker                  NaN   \n",
       "2998          0.58  moderate      non-smoker                  NaN   \n",
       "2999          0.45  moderate       ex-smoker  high blood pressure   \n",
       "\n",
       "     family_medical_history     sleep_pattern            edu_level  \\\n",
       "0                  diabetes  sleep difficulty     bachelors degree   \n",
       "1                  diabetes            normal      graduate degree   \n",
       "2                       NaN            normal  high school diploma   \n",
       "3                       NaN      oversleeping      graduate degree   \n",
       "4                  diabetes  sleep difficulty     bachelors degree   \n",
       "...                     ...               ...                  ...   \n",
       "2995                    NaN      oversleeping                  NaN   \n",
       "2996                    NaN            normal  high school diploma   \n",
       "2997                    NaN            normal                  NaN   \n",
       "2998                    NaN      oversleeping  high school diploma   \n",
       "2999          heart disease            normal                  NaN   \n",
       "\n",
       "      mean_working  stress_score  \n",
       "0              NaN          0.63  \n",
       "1              NaN          0.83  \n",
       "2              9.0          0.70  \n",
       "3              NaN          0.17  \n",
       "4              NaN          0.36  \n",
       "...            ...           ...  \n",
       "2995           NaN          0.02  \n",
       "2996           9.0          0.16  \n",
       "2997           9.0          0.16  \n",
       "2998           NaN          0.18  \n",
       "2999           NaN          0.04  \n",
       "\n",
       "[3000 rows x 18 columns]>"
      ]
     },
     "execution_count": 213,
     "metadata": {},
     "output_type": "execute_result"
    }
   ],
   "source": [
    "#학습 데이터는 총 19개의 변수 3000개의 데이터를 가지고 있다. \n",
    "\n",
    "train.count"
   ]
  },
  {
   "cell_type": "code",
   "execution_count": 214,
   "id": "841aa4c0-4ffc-4dca-af95-87fa21315500",
   "metadata": {},
   "outputs": [
    {
     "data": {
      "text/plain": [
       "ID                             0\n",
       "gender                         0\n",
       "age                            0\n",
       "height                         0\n",
       "weight                         0\n",
       "cholesterol                    0\n",
       "systolic_blood_pressure        0\n",
       "diastolic_blood_pressure       0\n",
       "glucose                        0\n",
       "bone_density                   0\n",
       "activity                       0\n",
       "smoke_status                   0\n",
       "medical_history             1289\n",
       "family_medical_history      1486\n",
       "sleep_pattern                  0\n",
       "edu_level                    607\n",
       "mean_working                1032\n",
       "stress_score                   0\n",
       "dtype: int64"
      ]
     },
     "execution_count": 214,
     "metadata": {},
     "output_type": "execute_result"
    }
   ],
   "source": [
    "train.isnull().sum()"
   ]
  },
  {
   "cell_type": "code",
   "execution_count": 215,
   "id": "1aebd170-0d07-45ca-a098-3629268edac9",
   "metadata": {},
   "outputs": [
    {
     "data": {
      "text/plain": [
       "array(['diabetes', nan, 'high blood pressure', 'heart disease'],\n",
       "      dtype=object)"
      ]
     },
     "execution_count": 215,
     "metadata": {},
     "output_type": "execute_result"
    }
   ],
   "source": [
    "train.family_medical_history.unique()"
   ]
  },
  {
   "cell_type": "code",
   "execution_count": 216,
   "id": "e7aea1d9-d653-4bd5-9691-850497a65641",
   "metadata": {},
   "outputs": [
    {
     "data": {
      "text/plain": [
       "0            diabetes\n",
       "1            diabetes\n",
       "2                 NaN\n",
       "3                 NaN\n",
       "4            diabetes\n",
       "            ...      \n",
       "2995              NaN\n",
       "2996              NaN\n",
       "2997              NaN\n",
       "2998              NaN\n",
       "2999    heart disease\n",
       "Name: family_medical_history, Length: 3000, dtype: object"
      ]
     },
     "execution_count": 216,
     "metadata": {},
     "output_type": "execute_result"
    }
   ],
   "source": [
    "train.family_medical_history"
   ]
  },
  {
   "cell_type": "code",
   "execution_count": 217,
   "id": "3c284551-18cc-40e7-b38f-ede8a800cdcf",
   "metadata": {},
   "outputs": [],
   "source": [
    "#값이 입력되지 않은 사람들은 병력이 없는 사람들로 간주한다.\n",
    "\n",
    "train[\"family_medical_history\"] =train[\"family_medical_history\"].fillna(\"goodhealth\")\n",
    "test[\"family_medical_history\"] =test[\"family_medical_history\"].fillna(\"goodhealth\")\n"
   ]
  },
  {
   "cell_type": "code",
   "execution_count": 218,
   "id": "45930931-6b05-42a7-86fc-a643b4b49333",
   "metadata": {},
   "outputs": [
    {
     "data": {
      "text/plain": [
       "array(['diabetes', 'goodhealth', 'high blood pressure', 'heart disease'],\n",
       "      dtype=object)"
      ]
     },
     "execution_count": 218,
     "metadata": {},
     "output_type": "execute_result"
    }
   ],
   "source": [
    "train.family_medical_history.unique() ##성공"
   ]
  },
  {
   "cell_type": "code",
   "execution_count": 219,
   "id": "3b944a54-1d07-4d22-bf0e-08227948ff7b",
   "metadata": {},
   "outputs": [
    {
     "data": {
      "text/plain": [
       "array(['high blood pressure', nan, 'diabetes', 'heart disease'],\n",
       "      dtype=object)"
      ]
     },
     "execution_count": 219,
     "metadata": {},
     "output_type": "execute_result"
    }
   ],
   "source": [
    "##개인 병력 데이터 살펴보기\n",
    "train.medical_history.unique()"
   ]
  },
  {
   "cell_type": "code",
   "execution_count": 220,
   "id": "14060ef4-4eb5-49a5-9db4-ea01b662b153",
   "metadata": {},
   "outputs": [],
   "source": [
    "#마찬가지로 기입이 되지 않은 값은 건강한 사람으로 취급한다.\n",
    "train[\"medical_history\"] =train[\"medical_history\"].fillna(\"goodhealth\")\n",
    "test[\"medical_history\"] =test[\"medical_history\"].fillna(\"goodhealth\")"
   ]
  },
  {
   "cell_type": "code",
   "execution_count": 221,
   "id": "857ec0fe-b932-49fa-b9af-99ad36b7b376",
   "metadata": {},
   "outputs": [
    {
     "data": {
      "text/plain": [
       "array([nan,  9., 10.,  7.,  8., 12.,  6., 11., 14., 15., 13.,  5.,  4.,\n",
       "       16.])"
      ]
     },
     "execution_count": 221,
     "metadata": {},
     "output_type": "execute_result"
    }
   ],
   "source": [
    "#일일 근무 시간데이터를 살펴보자\n",
    "train.mean_working.unique()\n"
   ]
  },
  {
   "cell_type": "code",
   "execution_count": 222,
   "id": "43844800-5828-476b-9cff-8178552351b8",
   "metadata": {},
   "outputs": [],
   "source": [
    "# nan값은 근무를 하지 않는 사람이라 가정한다\n",
    "train[\"mean_working\"] =train[\"mean_working\"].fillna(0)\n",
    "test[\"mean_working\"] =test[\"mean_working\"].fillna(0)"
   ]
  },
  {
   "cell_type": "code",
   "execution_count": 223,
   "id": "de5a0a2e-aabf-432d-a5b1-a8c2daff10be",
   "metadata": {},
   "outputs": [
    {
     "data": {
      "text/plain": [
       "array(['bachelors degree', 'graduate degree', 'high school diploma', nan],\n",
       "      dtype=object)"
      ]
     },
     "execution_count": 223,
     "metadata": {},
     "output_type": "execute_result"
    }
   ],
   "source": [
    "train.edu_level.unique()"
   ]
  },
  {
   "cell_type": "code",
   "execution_count": 224,
   "id": "33a858da-bd6b-4e46-939e-941c2dc37109",
   "metadata": {},
   "outputs": [
    {
     "name": "stdout",
     "output_type": "stream",
     "text": [
      "[]\n"
     ]
    }
   ],
   "source": [
    "##16세 이하의 사람들 수를 보자, 확률적으로 고등학교 이하이기 떄문이다.\n",
    "##16세 이하일 경우 학력이 고등 이하이기 때문에 학력이 nan값으로 입력됬을 가능성이 높다.\n",
    "young = []\n",
    "for x in range (len(train)):\n",
    "    if train.age[x]<=16:\n",
    "       \n",
    "        young.append(train.age[x])\n",
    "\n",
    "##나이가 문제는 아닌거 같다.\n",
    "print(young)\n",
    "    \n",
    "    \n",
    "    "
   ]
  },
  {
   "cell_type": "code",
   "execution_count": 225,
   "id": "6c2f0b21-cb64-4cd3-bc48-ff44baf4c02b",
   "metadata": {},
   "outputs": [
    {
     "data": {
      "text/plain": [
       "ID                           object\n",
       "gender                       object\n",
       "age                           int64\n",
       "height                      float64\n",
       "weight                      float64\n",
       "cholesterol                 float64\n",
       "systolic_blood_pressure       int64\n",
       "diastolic_blood_pressure      int64\n",
       "glucose                     float64\n",
       "bone_density                float64\n",
       "activity                     object\n",
       "smoke_status                 object\n",
       "medical_history              object\n",
       "family_medical_history       object\n",
       "sleep_pattern                object\n",
       "edu_level                    object\n",
       "mean_working                float64\n",
       "stress_score                float64\n",
       "dtype: object"
      ]
     },
     "execution_count": 225,
     "metadata": {},
     "output_type": "execute_result"
    }
   ],
   "source": [
    "train.dtypes"
   ]
  },
  {
   "cell_type": "code",
   "execution_count": 226,
   "id": "744c3ba7-f6e3-4db2-887a-709efb9ff1ac",
   "metadata": {},
   "outputs": [],
   "source": [
    "edu_null = []\n",
    "edu_null = train[train['edu_level'].isna()]\n",
    "\n",
    "edu_notnull = []\n",
    "edu_notnull = train[train['edu_level'].notna()]\n",
    "\n"
   ]
  },
  {
   "cell_type": "code",
   "execution_count": 227,
   "id": "c63d54a6-a5c7-49e0-9ca9-c472d84a8470",
   "metadata": {},
   "outputs": [
    {
     "data": {
      "text/plain": [
       "(array([51., 59., 60., 58., 54., 62., 59., 75., 65., 64.]),\n",
       " array([17. , 24.2, 31.4, 38.6, 45.8, 53. , 60.2, 67.4, 74.6, 81.8, 89. ]),\n",
       " <BarContainer object of 10 artists>)"
      ]
     },
     "execution_count": 227,
     "metadata": {},
     "output_type": "execute_result"
    },
    {
     "data": {
      "image/png": "[encoded data removed]",
      "text/plain": [
       "<Figure size 640x480 with 1 Axes>"
      ]
     },
     "metadata": {},
     "output_type": "display_data"
    }
   ],
   "source": [
    "plt.hist(edu_null.age)"
   ]
  },
  {
   "cell_type": "code",
   "execution_count": 228,
   "id": "d7b225cb-2f34-4804-8a35-7a948b48f8da",
   "metadata": {},
   "outputs": [
    {
     "data": {
      "text/plain": [
       "(array([228., 237., 252., 255., 238., 297., 184., 199., 258., 245.]),\n",
       " array([17. , 24.2, 31.4, 38.6, 45.8, 53. , 60.2, 67.4, 74.6, 81.8, 89. ]),\n",
       " <BarContainer object of 10 artists>)"
      ]
     },
     "execution_count": 228,
     "metadata": {},
     "output_type": "execute_result"
    },
    {
     "data": {
      "image/png": "[encoded data removed]",
      "text/plain": [
       "<Figure size 640x480 with 1 Axes>"
      ]
     },
     "metadata": {},
     "output_type": "display_data"
    }
   ],
   "source": [
    "plt.hist(edu_notnull.age)"
   ]
  },
  {
   "cell_type": "code",
   "execution_count": 229,
   "id": "8da6b852-fba3-462e-9785-37a61dc9db38",
   "metadata": {},
   "outputs": [
    {
     "data": {
      "text/plain": [
       "(array([238.,   0.,   0.,  13.,  65., 187.,  89.,   4.,   8.,   3.]),\n",
       " array([ 0. ,  1.6,  3.2,  4.8,  6.4,  8. ,  9.6, 11.2, 12.8, 14.4, 16. ]),\n",
       " <BarContainer object of 10 artists>)"
      ]
     },
     "execution_count": 229,
     "metadata": {},
     "output_type": "execute_result"
    },
    {
     "data": {
      "image/png": "[encoded data removed]",
      "text/plain": [
       "<Figure size 640x480 with 1 Axes>"
      ]
     },
     "metadata": {},
     "output_type": "display_data"
    }
   ],
   "source": [
    "plt.hist(edu_null.mean_working)"
   ]
  },
  {
   "cell_type": "code",
   "execution_count": 230,
   "id": "f7504a4d-8257-4bea-b141-ec7f7166c5b8",
   "metadata": {
    "scrolled": true
   },
   "outputs": [
    {
     "data": {
      "text/plain": [
       "(array([794.,   0.,   5., 101., 253., 801., 377.,  22.,  24.,  16.]),\n",
       " array([ 0. ,  1.6,  3.2,  4.8,  6.4,  8. ,  9.6, 11.2, 12.8, 14.4, 16. ]),\n",
       " <BarContainer object of 10 artists>)"
      ]
     },
     "execution_count": 230,
     "metadata": {},
     "output_type": "execute_result"
    },
    {
     "data": {
      "image/png": "[encoded data removed]",
      "text/plain": [
       "<Figure size 640x480 with 1 Axes>"
      ]
     },
     "metadata": {},
     "output_type": "display_data"
    }
   ],
   "source": [
    "plt.hist(edu_notnull.mean_working)"
   ]
  },
  {
   "cell_type": "code",
   "execution_count": 231,
   "id": "e983278f-5720-430b-9528-fd284bd584c7",
   "metadata": {},
   "outputs": [
    {
     "data": {
      "text/plain": [
       "np.float64(0.5112355848434926)"
      ]
     },
     "execution_count": 231,
     "metadata": {},
     "output_type": "execute_result"
    }
   ],
   "source": [
    "edu_null[\"stress_score\"].mean()"
   ]
  },
  {
   "cell_type": "code",
   "execution_count": 232,
   "id": "e22b873a-4d98-48fb-98a3-58e58aab90c3",
   "metadata": {},
   "outputs": [
    {
     "data": {
      "text/plain": [
       "np.float64(0.4747471792728793)"
      ]
     },
     "execution_count": 232,
     "metadata": {},
     "output_type": "execute_result"
    }
   ],
   "source": [
    "edu_notnull[\"stress_score\"].mean()"
   ]
  },
  {
   "cell_type": "code",
   "execution_count": 233,
   "id": "0954b3dc-0851-4de9-b3ea-01d5fc910413",
   "metadata": {},
   "outputs": [],
   "source": [
    "#결측값이 있는 집단과 없는 집단은 유의밀한 차이가 있는지 판단해 봐야 한다.\n",
    "#나이와 근무 시간을 시각화 화여 비교해본 결과 두 집단사이의 유의미한 차이는 있다고 보기 힘들다\n",
    "#데이터 결측치 자체를 하나의 데이터로 가정하고 모델을 돌려보자"
   ]
  },
  {
   "cell_type": "code",
   "execution_count": 234,
   "id": "d82ce992-0115-45f3-96b4-4ca0a782d36b",
   "metadata": {},
   "outputs": [],
   "source": [
    "train['edu_level'] = train['edu_level'].fillna('Unknown')\n",
    "test['edu_level'] = test['edu_level'].fillna('Unknown')"
   ]
  },
  {
   "cell_type": "code",
   "execution_count": 268,
   "id": "aab403a0-4f94-4dc5-afca-8f2ef8296ef8",
   "metadata": {
    "scrolled": true
   },
   "outputs": [
    {
     "data": {
      "text/plain": [
       "0       0.63\n",
       "1       0.83\n",
       "2       0.70\n",
       "3       0.17\n",
       "4       0.36\n",
       "        ... \n",
       "2995    0.02\n",
       "2996    0.16\n",
       "2997    0.16\n",
       "2998    0.18\n",
       "2999    0.04\n",
       "Name: stress_score, Length: 3000, dtype: float64"
      ]
     },
     "execution_count": 268,
     "metadata": {},
     "output_type": "execute_result"
    }
   ],
   "source": [
    "train.stress_score"
   ]
  },
  {
   "cell_type": "code",
   "execution_count": 248,
   "id": "83defa6b-c4ef-46e3-a523-59b05377e27c",
   "metadata": {},
   "outputs": [],
   "source": [
    "from sklearn.preprocessing import LabelEncoder\n",
    "import pandas as pd\n",
    "\n",
    "# 라벨 인코딩 대상 컬럼\n",
    "categorical_cols = [\n",
    "    'gender',\n",
    "    'activity',\n",
    "    'smoke_status',\n",
    "    'medical_history',\n",
    "    'family_medical_history',\n",
    "    'sleep_pattern',\n",
    "    'edu_level'\n",
    "]\n",
    "\n",
    "# 각 컬럼별로 LabelEncoder 적용 (train + test 기준 통일)\n",
    "for col in categorical_cols:\n",
    "    if col in x_train.columns:  # 혹시 누락된 컬럼 대비 안전 처리\n",
    "        le = LabelEncoder()\n",
    "        \n",
    "        # train과 test 데이터 결합 후 fit → 기준 통일\n",
    "        combined = pd.concat([x_train[col], test[col]], axis=0).astype(str)\n",
    "        le.fit(combined)\n",
    "        \n",
    "        # 변환 적용\n",
    "        x_train[col] = le.transform(x_train[col].astype(str))\n",
    "        test[col] = le.transform(test[col].astype(str))\n"
   ]
  },
  {
   "cell_type": "code",
   "execution_count": 247,
   "id": "66319d25-7ecb-4aac-b712-f50cbd250305",
   "metadata": {},
   "outputs": [
    {
     "name": "stdout",
     "output_type": "stream",
     "text": [
      "<class 'pandas.core.frame.DataFrame'>\n",
      "RangeIndex: 3000 entries, 0 to 2999\n",
      "Data columns (total 18 columns):\n",
      " #   Column                    Non-Null Count  Dtype  \n",
      "---  ------                    --------------  -----  \n",
      " 0   ID                        3000 non-null   object \n",
      " 1   gender                    3000 non-null   object \n",
      " 2   age                       3000 non-null   int64  \n",
      " 3   height                    3000 non-null   float64\n",
      " 4   weight                    3000 non-null   float64\n",
      " 5   cholesterol               3000 non-null   float64\n",
      " 6   systolic_blood_pressure   3000 non-null   int64  \n",
      " 7   diastolic_blood_pressure  3000 non-null   int64  \n",
      " 8   glucose                   3000 non-null   float64\n",
      " 9   bone_density              3000 non-null   float64\n",
      " 10  activity                  3000 non-null   object \n",
      " 11  smoke_status              3000 non-null   object \n",
      " 12  medical_history           3000 non-null   object \n",
      " 13  family_medical_history    3000 non-null   object \n",
      " 14  sleep_pattern             3000 non-null   object \n",
      " 15  edu_level                 3000 non-null   object \n",
      " 16  mean_working              3000 non-null   float64\n",
      " 17  stress_score              3000 non-null   float64\n",
      "dtypes: float64(7), int64(3), object(8)\n",
      "memory usage: 422.0+ KB\n"
     ]
    }
   ],
   "source": [
    "train.info()"
   ]
  },
  {
   "cell_type": "code",
   "execution_count": 263,
   "id": "ad593e5c-5b3c-4789-9bf2-c0878d50cf96",
   "metadata": {},
   "outputs": [],
   "source": [
    "\n",
    "\n",
    "# depth_list = [-1,3]\n",
    "# leaves_list = [10,31, 63, 127]\n",
    "# subsample_list = [0.7, 0.8, 0.9]\n",
    "\n",
    "# from lightgbm import LGBMRegressor, early_stopping, log_evaluation\n",
    "\n",
    "# for depth in depth_list:\n",
    "#     for leaves in leaves_list:\n",
    "#         for subsample in subsample_list:\n",
    "#             model = LGBMRegressor(\n",
    "#                 max_depth=depth,\n",
    "#                 num_leaves=leaves,\n",
    "#                 subsample=subsample,\n",
    "#                 learning_rate=0.05,\n",
    "#                 n_estimators=1000,\n",
    "#                 random_state=42\n",
    "#             )\n",
    "#             model.fit(\n",
    "#                 x_tr, y_tr,\n",
    "#                 eval_set=[(x_val, y_val)],\n",
    "#                 eval_metric='rmse',\n",
    "#                 callbacks=[\n",
    "#                     early_stopping(stopping_rounds=50),\n",
    "#                     log_evaluation(0)\n",
    "#                 ]\n",
    "#             )\n",
    "#             pred = model.predict(x_val)\n",
    "#             rmse = mean_squared_error(y_val, pred)\n",
    "#             if rmse < best_score:\n",
    "#                 best_score = rmse\n",
    "#                 best_model = model\n",
    "#                 best_params = {\n",
    "#                     'max_depth': depth,\n",
    "#                     'num_leaves': leaves,\n",
    "#                     'subsample': subsample\n",
    "#                 }\n",
    "\n",
    "# print(\"📌 Best RMSE:\", best_score)\n",
    "# print(\"📌 Best Params:\", best_params)\n"
   ]
  },
  {
   "cell_type": "code",
   "execution_count": 277,
   "id": "86c8f18c-4dc8-408d-b94d-9014a4b57c5f",
   "metadata": {},
   "outputs": [
    {
     "ename": "NameError",
     "evalue": "name 'X' is not defined",
     "output_type": "error",
     "traceback": [
      "\u001b[1;31m---------------------------------------------------------------------------\u001b[0m",
      "\u001b[1;31mNameError\u001b[0m                                 Traceback (most recent call last)",
      "Cell \u001b[1;32mIn[277], line 7\u001b[0m\n\u001b[0;32m      4\u001b[0m \u001b[38;5;28;01mfrom\u001b[39;00m\u001b[38;5;250m \u001b[39m\u001b[38;5;21;01mlightgbm\u001b[39;00m\u001b[38;5;250m \u001b[39m\u001b[38;5;28;01mimport\u001b[39;00m LGBMRegressor\n\u001b[0;32m      6\u001b[0m \u001b[38;5;66;03m# 1. 데이터 분할\u001b[39;00m\n\u001b[1;32m----> 7\u001b[0m x_train, x_test, y_train, y_test \u001b[38;5;241m=\u001b[39m train_test_split(\u001b[43mX\u001b[49m, y, test_size\u001b[38;5;241m=\u001b[39m\u001b[38;5;241m0.2\u001b[39m, random_state\u001b[38;5;241m=\u001b[39m\u001b[38;5;241m42\u001b[39m)\n\u001b[0;32m      9\u001b[0m \u001b[38;5;66;03m# 2. 모델 학습\u001b[39;00m\n\u001b[0;32m     10\u001b[0m model \u001b[38;5;241m=\u001b[39m LGBMRegressor(random_state\u001b[38;5;241m=\u001b[39m\u001b[38;5;241m42\u001b[39m)\n",
      "\u001b[1;31mNameError\u001b[0m: name 'X' is not defined"
     ]
    }
   ],
   "source": [
    "from sklearn.model_selection import train_test_split\n",
    "from sklearn.metrics import mean_absolute_error, mean_squared_error\n",
    "import numpy as np\n",
    "from lightgbm import LGBMRegressor\n",
    "\n",
    "# 1. 데이터 분할\n",
    "x_train, x_test, y_train, y_test = train_test_split(X, y, test_size=0.2, random_state=42)\n",
    "\n",
    "# 2. 모델 학습\n",
    "model = LGBMRegressor(random_state=42)\n",
    "model.fit(x_train, y_train)\n",
    "\n",
    "# 3. 예측\n",
    "pred = model.predict(x_test)\n",
    "\n",
    "# 4. MAE, RMSE 계산\n",
    "mae = mean_absolute_error(y_test, pred)\n",
    "rmse = np.sqrt(mean_squared_error(y_test, pred))\n",
    "\n",
    "print(f\"MAE: {mae:.6f}\")\n",
    "print(f\"RMSE: {rmse:.6f}\")\n",
    "\n",
    "# 📌 Best RMSE: 0.05259653549662293\n",
    "# model = LGBMRegressor(random_state = 42, num_leaves = 127, subsample = 0.7)\n",
    "# model.fit(x_train, y_train)\n",
    "\n",
    "# pred = model.predict(test)\n",
    "\n",
    "# 📌 Best Params: {'max_depth': -1, 'num_leaves': 127, 'subsample': 0.7}"
   ]
  },
  {
   "cell_type": "code",
   "execution_count": 270,
   "id": "61fd6894-3d7d-44ad-add5-17da348f6efb",
   "metadata": {},
   "outputs": [],
   "source": [
    "submission = pd.read_csv(r'D:\\workspace_1\\dacon_venv\\test\\dataset\\sample_submission.csv')"
   ]
  },
  {
   "cell_type": "code",
   "execution_count": 271,
   "id": "878b5e69-b381-4dc7-b463-e3fe24b3c797",
   "metadata": {},
   "outputs": [
    {
     "data": {
      "text/html": [
       "<div>\n",
       "<style scoped>\n",
       "    .dataframe tbody tr th:only-of-type {\n",
       "        vertical-align: middle;\n",
       "    }\n",
       "\n",
       "    .dataframe tbody tr th {\n",
       "        vertical-align: top;\n",
       "    }\n",
       "\n",
       "    .dataframe thead th {\n",
       "        text-align: right;\n",
       "    }\n",
       "</style>\n",
       "<table border=\"1\" class=\"dataframe\">\n",
       "  <thead>\n",
       "    <tr style=\"text-align: right;\">\n",
       "      <th></th>\n",
       "      <th>ID</th>\n",
       "      <th>stress_score</th>\n",
       "    </tr>\n",
       "  </thead>\n",
       "  <tbody>\n",
       "    <tr>\n",
       "      <th>0</th>\n",
       "      <td>TEST_0000</td>\n",
       "      <td>0.464517</td>\n",
       "    </tr>\n",
       "    <tr>\n",
       "      <th>1</th>\n",
       "      <td>TEST_0001</td>\n",
       "      <td>0.641405</td>\n",
       "    </tr>\n",
       "    <tr>\n",
       "      <th>2</th>\n",
       "      <td>TEST_0002</td>\n",
       "      <td>0.316468</td>\n",
       "    </tr>\n",
       "    <tr>\n",
       "      <th>3</th>\n",
       "      <td>TEST_0003</td>\n",
       "      <td>0.495755</td>\n",
       "    </tr>\n",
       "    <tr>\n",
       "      <th>4</th>\n",
       "      <td>TEST_0004</td>\n",
       "      <td>0.633169</td>\n",
       "    </tr>\n",
       "  </tbody>\n",
       "</table>\n",
       "</div>"
      ],
      "text/plain": [
       "          ID  stress_score\n",
       "0  TEST_0000      0.464517\n",
       "1  TEST_0001      0.641405\n",
       "2  TEST_0002      0.316468\n",
       "3  TEST_0003      0.495755\n",
       "4  TEST_0004      0.633169"
      ]
     },
     "execution_count": 271,
     "metadata": {},
     "output_type": "execute_result"
    }
   ],
   "source": [
    "submission['stress_score'] = pred\n",
    "submission.head()\n"
   ]
  },
  {
   "cell_type": "code",
   "execution_count": 158,
   "id": "53113985-1ab8-4005-84cb-f0e8ac5a3fd0",
   "metadata": {},
   "outputs": [],
   "source": [
    "submission.to_csv('submit_1.csv', index=False)"
   ]
  },
  {
   "cell_type": "code",
   "execution_count": null,
   "id": "68f79e14-46cb-47bc-a3d7-48efcb5bafac",
   "metadata": {},
   "outputs": [],
   "source": []
  }
 ],
 "metadata": {
  "kernelspec": {
   "display_name": "Python 3 (ipykernel)",
   "language": "python",
   "name": "python3"
  },
  "language_info": {
   "codemirror_mode": {
    "name": "ipython",
    "version": 3
   },
   "file_extension": ".py",
   "mimetype": "text/x-python",
   "name": "python",
   "nbconvert_exporter": "python",
   "pygments_lexer": "ipython3",
   "version": "3.10.6"
  }
 },
 "nbformat": 4,
 "nbformat_minor": 5
}
