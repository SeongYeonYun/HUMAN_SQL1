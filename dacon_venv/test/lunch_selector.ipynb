{
 "cells": [
  {
   "cell_type": "code",
   "execution_count": 10,
   "id": "f032355f-b798-4a42-9552-1dc5d243b536",
   "metadata": {},
   "outputs": [],
   "source": [
    "import random as rd"
   ]
  },
  {
   "cell_type": "code",
   "execution_count": 11,
   "id": "d4829a22-a8f2-47d3-9b51-5217a0e2d8ef",
   "metadata": {},
   "outputs": [],
   "source": [
    "menu_dic = {\"짜장면\" : 0, \"돈가스\" : 0,\"우동+김밥\" : 0, \"모밀\" : 0 , \"편밥\" : 0}"
   ]
  },
  {
   "cell_type": "code",
   "execution_count": 12,
   "id": "c0af8519-12db-4cc0-98af-aa94f884cee9",
   "metadata": {},
   "outputs": [],
   "source": [
    "menu_list = [\"짜장면\", \"돈가스\", \"우동+김밥\",\"모밀\", \"편밥\"]"
   ]
  },
  {
   "cell_type": "code",
   "execution_count": 13,
   "id": "ddaa1c1e-d688-4918-b9a6-6d49489e59cc",
   "metadata": {},
   "outputs": [
    {
     "name": "stdout",
     "output_type": "stream",
     "text": [
      "['짜장면', '돈가스', '우동+김밥', '모밀', '편밥']\n"
     ]
    }
   ],
   "source": [
    "print(menu_list)"
   ]
  },
  {
   "cell_type": "code",
   "execution_count": 14,
   "id": "6ff9b0d4-9940-47c4-ba54-501fa31f0060",
   "metadata": {},
   "outputs": [
    {
     "data": {
      "text/plain": [
       "1"
      ]
     },
     "execution_count": 14,
     "metadata": {},
     "output_type": "execute_result"
    }
   ],
   "source": [
    "rd.randint(1,len(menu_list))"
   ]
  },
  {
   "cell_type": "code",
   "execution_count": 15,
   "id": "b7ecc1fc-517c-47fa-be47-b2d72aaa8179",
   "metadata": {},
   "outputs": [],
   "source": [
    "for x in range (10000):\n",
    "    y = rd.randint(1,len(menu_list))\n",
    "    # print(menu_list[y-1])\n",
    "    menu_dic[menu_list[y-1]] = menu_dic[menu_list[y-1]] + 1\n",
    "    "
   ]
  },
  {
   "cell_type": "code",
   "execution_count": 16,
   "id": "8c7e1008-e950-427e-b5e2-df214a1b3306",
   "metadata": {},
   "outputs": [
    {
     "data": {
      "text/plain": [
       "{'짜장면': 1978, '돈가스': 1982, '우동+김밥': 1997, '모밀': 2031, '편밥': 2012}"
      ]
     },
     "execution_count": 16,
     "metadata": {},
     "output_type": "execute_result"
    }
   ],
   "source": [
    "menu_dic"
   ]
  }
 ],
 "metadata": {
  "kernelspec": {
   "display_name": "test",
   "language": "python",
   "name": "python3"
  },
  "language_info": {
   "codemirror_mode": {
    "name": "ipython",
    "version": 3
   },
   "file_extension": ".py",
   "mimetype": "text/x-python",
   "name": "python",
   "nbconvert_exporter": "python",
   "pygments_lexer": "ipython3",
   "version": "3.10.6"
  }
 },
 "nbformat": 4,
 "nbformat_minor": 5
}
