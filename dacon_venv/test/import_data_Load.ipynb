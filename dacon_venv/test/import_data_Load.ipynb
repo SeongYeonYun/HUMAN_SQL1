{
 "cells": [
  {
   "cell_type": "markdown",
   "metadata": {
    "pbl_cell_type": "markdown",
    "step_id": 15028,
    "step_number": 0
   },
   "source": [
    "### Import & Data Load"
   ]
  },
  {
   "cell_type": "code",
   "execution_count": null,
   "metadata": {
    "scrolled": true
   },
   "outputs": [
    {
     "name": "stdout",
     "output_type": "stream",
     "text": [
      "Collecting scikit-learn\n",
      "  Downloading scikit_learn-1.7.0-cp310-cp310-win_amd64.whl.metadata (14 kB)\n",
      "Requirement already satisfied: numpy>=1.22.0 in d:\\workspace_1\\dacon_venv\\test\\lib\\site-packages (from scikit-learn) (2.2.6)\n",
      "Requirement already satisfied: scipy>=1.8.0 in d:\\workspace_1\\dacon_venv\\test\\lib\\site-packages (from scikit-learn) (1.15.3)\n",
      "Collecting joblib>=1.2.0 (from scikit-learn)\n",
      "  Using cached joblib-1.5.1-py3-none-any.whl.metadata (5.6 kB)\n",
      "Collecting threadpoolctl>=3.1.0 (from scikit-learn)\n",
      "  Using cached threadpoolctl-3.6.0-py3-none-any.whl.metadata (13 kB)\n",
      "Downloading scikit_learn-1.7.0-cp310-cp310-win_amd64.whl (10.7 MB)\n",
      "   ---------------------------------------- 0.0/10.7 MB ? eta -:--:--\n",
      "   ------- -------------------------------- 2.1/10.7 MB 11.8 MB/s eta 0:00:01\n",
      "   ----------------- ---------------------- 4.7/10.7 MB 11.9 MB/s eta 0:00:01\n",
      "   --------------------------- ------------ 7.3/10.7 MB 11.9 MB/s eta 0:00:01\n",
      "   ------------------------------------ --- 9.7/10.7 MB 11.9 MB/s eta 0:00:01\n",
      "   ---------------------------------------  10.5/10.7 MB 11.9 MB/s eta 0:00:01\n",
      "   ---------------------------------------- 10.7/10.7 MB 10.1 MB/s eta 0:00:00\n",
      "Using cached joblib-1.5.1-py3-none-any.whl (307 kB)\n",
      "Using cached threadpoolctl-3.6.0-py3-none-any.whl (18 kB)\n",
      "Installing collected packages: threadpoolctl, joblib, scikit-learn\n",
      "\n",
      "   ------------- -------------------------- 1/3 [joblib]\n",
      "   ------------- -------------------------- 1/3 [joblib]\n",
      "   ------------- -------------------------- 1/3 [joblib]\n",
      "   ------------- -------------------------- 1/3 [joblib]\n",
      "   ------------- -------------------------- 1/3 [joblib]\n",
      "   ------------- -------------------------- 1/3 [joblib]\n",
      "   ------------- -------------------------- 1/3 [joblib]\n",
      "   -------------------------- ------------- 2/3 [scikit-learn]\n",
      "   -------------------------- ------------- 2/3 [scikit-learn]\n",
      "   -------------------------- ------------- 2/3 [scikit-learn]\n",
      "   -------------------------- ------------- 2/3 [scikit-learn]\n",
      "   -------------------------- ------------- 2/3 [scikit-learn]\n",
      "   -------------------------- ------------- 2/3 [scikit-learn]\n",
      "   -------------------------- ------------- 2/3 [scikit-learn]\n",
      "   -------------------------- ------------- 2/3 [scikit-learn]\n",
      "   -------------------------- ------------- 2/3 [scikit-learn]\n",
      "   -------------------------- ------------- 2/3 [scikit-learn]\n",
      "   -------------------------- ------------- 2/3 [scikit-learn]\n",
      "   -------------------------- ------------- 2/3 [scikit-learn]\n",
      "   -------------------------- ------------- 2/3 [scikit-learn]\n",
      "   -------------------------- ------------- 2/3 [scikit-learn]\n",
      "   -------------------------- ------------- 2/3 [scikit-learn]\n",
      "   -------------------------- ------------- 2/3 [scikit-learn]\n",
      "   -------------------------- ------------- 2/3 [scikit-learn]\n",
      "   -------------------------- ------------- 2/3 [scikit-learn]\n",
      "   -------------------------- ------------- 2/3 [scikit-learn]\n",
      "   -------------------------- ------------- 2/3 [scikit-learn]\n",
      "   -------------------------- ------------- 2/3 [scikit-learn]\n",
      "   -------------------------- ------------- 2/3 [scikit-learn]\n",
      "   -------------------------- ------------- 2/3 [scikit-learn]\n",
      "   -------------------------- ------------- 2/3 [scikit-learn]\n",
      "   -------------------------- ------------- 2/3 [scikit-learn]\n",
      "   -------------------------- ------------- 2/3 [scikit-learn]\n",
      "   -------------------------- ------------- 2/3 [scikit-learn]\n",
      "   -------------------------- ------------- 2/3 [scikit-learn]\n",
      "   -------------------------- ------------- 2/3 [scikit-learn]\n",
      "   -------------------------- ------------- 2/3 [scikit-learn]\n",
      "   -------------------------- ------------- 2/3 [scikit-learn]\n",
      "   -------------------------- ------------- 2/3 [scikit-learn]\n",
      "   -------------------------- ------------- 2/3 [scikit-learn]\n",
      "   -------------------------- ------------- 2/3 [scikit-learn]\n",
      "   -------------------------- ------------- 2/3 [scikit-learn]\n",
      "   -------------------------- ------------- 2/3 [scikit-learn]\n",
      "   -------------------------- ------------- 2/3 [scikit-learn]\n",
      "   -------------------------- ------------- 2/3 [scikit-learn]\n",
      "   -------------------------- ------------- 2/3 [scikit-learn]\n",
      "   -------------------------- ------------- 2/3 [scikit-learn]\n",
      "   -------------------------- ------------- 2/3 [scikit-learn]\n",
      "   -------------------------- ------------- 2/3 [scikit-learn]\n",
      "   -------------------------- ------------- 2/3 [scikit-learn]\n",
      "   -------------------------- ------------- 2/3 [scikit-learn]\n",
      "   -------------------------- ------------- 2/3 [scikit-learn]\n",
      "   -------------------------- ------------- 2/3 [scikit-learn]\n",
      "   -------------------------- ------------- 2/3 [scikit-learn]\n",
      "   -------------------------- ------------- 2/3 [scikit-learn]\n",
      "   -------------------------- ------------- 2/3 [scikit-learn]\n",
      "   -------------------------- ------------- 2/3 [scikit-learn]\n",
      "   -------------------------- ------------- 2/3 [scikit-learn]\n",
      "   -------------------------- ------------- 2/3 [scikit-learn]\n",
      "   -------------------------- ------------- 2/3 [scikit-learn]\n",
      "   -------------------------- ------------- 2/3 [scikit-learn]\n",
      "   ---------------------------------------- 3/3 [scikit-learn]\n",
      "\n",
      "Successfully installed joblib-1.5.1 scikit-learn-1.7.0 threadpoolctl-3.6.0\n",
      "Note: you may need to restart the kernel to use updated packages.\n"
     ]
    }
   ],
   "source": [
    "# pip install scikit-learn\n"
   ]
  },
  {
   "cell_type": "code",
   "execution_count": null,
   "metadata": {
    "pbl_cell_type": "code",
    "step_id": 15028,
    "step_number": 0
   },
   "outputs": [],
   "source": [
    "import numpy as np\n",
    "import pandas as pd\n",
    "from lightgbm import LGBMRegressor\n",
    "from sklearn.preprocessing import LabelEncoder"
   ]
  },
  {
   "cell_type": "code",
   "execution_count": null,
   "metadata": {
    "pbl_cell_type": "code",
    "step_id": 15028,
    "step_number": 0
   },
   "outputs": [],
   "source": [
    "train = pd.read_csv('D:\\\\workspace_1\\\\dacon_venv\\\\test\\\\dataset\\\\train.csv')\n",
    "test = pd.read_csv('D:\\\\workspace_1\\\\dacon_venv\\\\test\\\\dataset\\\\test.csv')"
   ]
  },
  {
   "cell_type": "code",
   "execution_count": null,
   "metadata": {
    "pbl_cell_type": "code",
    "step_id": 15028,
    "step_number": 0
   },
   "outputs": [
    {
     "data": {
      "text/plain": [
       "ID                          3000\n",
       "gender                      3000\n",
       "age                         3000\n",
       "height                      3000\n",
       "weight                      3000\n",
       "cholesterol                 3000\n",
       "systolic_blood_pressure     3000\n",
       "diastolic_blood_pressure    3000\n",
       "glucose                     3000\n",
       "bone_density                3000\n",
       "activity                    3000\n",
       "smoke_status                3000\n",
       "medical_history             3000\n",
       "family_medical_history      3000\n",
       "sleep_pattern               3000\n",
       "edu_level                   3000\n",
       "mean_working                3000\n",
       "stress_score                3000\n",
       "dtype: int64"
      ]
     },
     "execution_count": 25,
     "metadata": {},
     "output_type": "execute_result"
    }
   ],
   "source": [
    "train.count()"
   ]
  },
  {
   "cell_type": "markdown",
   "metadata": {
    "pbl_cell_type": "markdown",
    "step_id": 15028,
    "step_number": 0
   },
   "source": [
    "### Check Data"
   ]
  },
  {
   "cell_type": "code",
   "execution_count": null,
   "metadata": {
    "pbl_cell_type": "code",
    "step_id": 15028,
    "step_number": 0
   },
   "outputs": [
    {
     "data": {
      "text/plain": [
       "ID                             0\n",
       "gender                         0\n",
       "age                            0\n",
       "height                         0\n",
       "weight                         0\n",
       "cholesterol                    0\n",
       "systolic_blood_pressure        0\n",
       "diastolic_blood_pressure       0\n",
       "glucose                        0\n",
       "bone_density                   0\n",
       "activity                       0\n",
       "smoke_status                   0\n",
       "medical_history             1289\n",
       "family_medical_history      1486\n",
       "sleep_pattern                  0\n",
       "edu_level                    607\n",
       "mean_working                1032\n",
       "stress_score                   0\n",
       "dtype: int64"
      ]
     },
     "execution_count": 5,
     "metadata": {},
     "output_type": "execute_result"
    }
   ],
   "source": [
    "train.isnull().sum()\n",
    "#데이터 3000개중에 1486개의 데이터를 최빈값으로 대체하게 되면 문제가 생길것이다. \n",
    "#가설1 : edu_level은 결측치의 값이 많지는 않기에 최빈값으로 대체한다.\n",
    "#가설2 : family_medical_history,medical_history 의 경우 null값을 0이나 다른 값으로 대체한다.\n"
   ]
  },
  {
   "cell_type": "code",
   "execution_count": null,
   "metadata": {
    "pbl_cell_type": "code",
    "step_id": 15028,
    "step_number": 0
   },
   "outputs": [
    {
     "data": {
      "text/plain": [
       "Index(['medical_history', 'family_medical_history', 'edu_level',\n",
       "       'mean_working'],\n",
       "      dtype='object')"
      ]
     },
     "execution_count": 6,
     "metadata": {},
     "output_type": "execute_result"
    }
   ],
   "source": [
    "# 결측값 있는 칼럼(column) 확인\n",
    "missing_columns_train = train.columns[train.isnull().sum() > 0]\n",
    "missing_columns_train"
   ]
  },
  {
   "cell_type": "code",
   "execution_count": null,
   "metadata": {
    "pbl_cell_type": "code",
    "step_id": 15028,
    "step_number": 0
   },
   "outputs": [
    {
     "name": "stdout",
     "output_type": "stream",
     "text": [
      "<class 'pandas.core.frame.DataFrame'>\n",
      "RangeIndex: 3000 entries, 0 to 2999\n",
      "Data columns (total 4 columns):\n",
      " #   Column                  Non-Null Count  Dtype  \n",
      "---  ------                  --------------  -----  \n",
      " 0   medical_history         1711 non-null   object \n",
      " 1   family_medical_history  1514 non-null   object \n",
      " 2   edu_level               2393 non-null   object \n",
      " 3   mean_working            1968 non-null   float64\n",
      "dtypes: float64(1), object(3)\n",
      "memory usage: 93.9+ KB\n"
     ]
    }
   ],
   "source": [
    "train[missing_columns_train].info()"
   ]
  },
  {
   "cell_type": "code",
   "execution_count": null,
   "metadata": {
    "pbl_cell_type": "code",
    "step_id": 15028,
    "step_number": 0
   },
   "outputs": [
    {
     "name": "stdout",
     "output_type": "stream",
     "text": [
      "결측값이 있는 범주형 변수: ['medical_history', 'family_medical_history', 'edu_level']\n",
      "결측값이 있는 수치형 변수: ['mean_working']\n"
     ]
    }
   ],
   "source": [
    "categorical_na_cols = []\n",
    "numerical_na_cols = []\n",
    "\n",
    "# 결측값이 있는 각 칼럼에 대해 데이터 타입 확인\n",
    "for col in missing_columns_train:\n",
    "    # 해당 칼럼이 범주형(object 또는 category)인지 확인\n",
    "    if col in train.select_dtypes(include=['object', 'category']).columns:\n",
    "        categorical_na_cols.append(col)\n",
    "    # 해당 칼럼이 수치형(int 또는 float)인지 확인\n",
    "    elif col in train.select_dtypes(include=['int', 'float']).columns:\n",
    "        numerical_na_cols.append(col)\n",
    "\n",
    "print(\"결측값이 있는 범주형 변수:\", categorical_na_cols)\n",
    "print(\"결측값이 있는 수치형 변수:\", numerical_na_cols)"
   ]
  },
  {
   "cell_type": "markdown",
   "metadata": {
    "pbl_cell_type": "markdown",
    "step_id": 15028,
    "step_number": 0
   },
   "source": [
    "### Data Preprocessing"
   ]
  },
  {
   "cell_type": "code",
   "execution_count": null,
   "metadata": {
    "pbl_cell_type": "code",
    "step_id": 15028,
    "step_number": 0
   },
   "outputs": [],
   "source": [
    "# 범주형 변수의 결측값을 최빈값으로 대체\n",
    "for col in categorical_na_cols:\n",
    "    # 학습 데이터에서 최빈값 계산\n",
    "    most_frequent = train[col].mode()[0]\n",
    "    \n",
    "    # 학습 데이터와 테스트 데이터 모두 해당 칼럼의 최빈값으로 대체\n",
    "    train[col] = train[col].fillna(most_frequent)\n",
    "    test[col] = test[col].fillna(most_frequent)"
   ]
  },
  {
   "cell_type": "code",
   "execution_count": null,
   "metadata": {
    "pbl_cell_type": "code",
    "step_id": 15028,
    "step_number": 0
   },
   "outputs": [],
   "source": [
    "# mean_working에 대해 중앙값 대체\n",
    "median_value = train['mean_working'].median()\n",
    "\n",
    "train['mean_working'] = train['mean_working'].fillna(median_value)\n",
    "test['mean_working'] = test['mean_working'].fillna(median_value)"
   ]
  },
  {
   "cell_type": "code",
   "execution_count": null,
   "metadata": {
    "pbl_cell_type": "code",
    "step_id": 15028,
    "step_number": 0
   },
   "outputs": [],
   "source": [
    "# Label Encoding 적용 열 - 범주형 데이터\n",
    "categorical_cols = train.select_dtypes(include='object').columns.drop('ID')\n",
    "\n",
    "for feature in categorical_cols:\n",
    "    le = LabelEncoder()\n",
    "    le = le.fit(train[feature])\n",
    "    train[feature] = le.transform(train[feature])\n",
    "    \n",
    "    for label in np.unique(test[feature]):\n",
    "        if label not in le.classes_:\n",
    "            le.classes_ = np.append(le.classes_, label)\n",
    "    \n",
    "    test[feature] = le.transform(test[feature])"
   ]
  },
  {
   "cell_type": "code",
   "execution_count": null,
   "metadata": {},
   "outputs": [],
   "source": []
  },
  {
   "cell_type": "code",
   "execution_count": null,
   "metadata": {
    "pbl_cell_type": "code",
    "step_id": 15028,
    "step_number": 0
   },
   "outputs": [],
   "source": [
    "x_train = train.drop(['ID', 'stress_score'], axis = 1)\n",
    "y_train = train['stress_score']\n",
    "\n",
    "test = test.drop('ID', axis = 1)"
   ]
  },
  {
   "cell_type": "markdown",
   "metadata": {
    "pbl_cell_type": "markdown",
    "step_id": 15028,
    "step_number": 1,
    "tags": []
   },
   "source": [
    "### Train / Predict"
   ]
  },
  {
   "cell_type": "code",
   "execution_count": null,
   "metadata": {
    "pbl_cell_type": "code",
    "step_id": 15028,
    "step_number": 1,
    "tags": []
   },
   "outputs": [
    {
     "name": "stdout",
     "output_type": "stream",
     "text": [
      "[LightGBM] [Info] Auto-choosing row-wise multi-threading, the overhead of testing was 0.000208 seconds.\n",
      "You can set `force_row_wise=true` to remove the overhead.\n",
      "And if memory is not enough, you can set `force_col_wise=true`.\n",
      "[LightGBM] [Info] Total Bins 1454\n",
      "[LightGBM] [Info] Number of data points in the train set: 3000, number of used features: 16\n",
      "[LightGBM] [Info] Start training from score 0.482130\n"
     ]
    }
   ],
   "source": [
    "model = LGBMRegressor(random_state = 42)\n",
    "model.fit(x_train, y_train)\n",
    "\n",
    "pred = model.predict(test)"
   ]
  },
  {
   "cell_type": "markdown",
   "metadata": {
    "pbl_cell_type": "markdown",
    "step_id": 15028,
    "step_number": 1,
    "tags": []
   },
   "source": [
    "### Submission"
   ]
  },
  {
   "cell_type": "code",
   "execution_count": null,
   "metadata": {
    "pbl_cell_type": "code",
    "step_id": 15028,
    "step_number": 1,
    "tags": []
   },
   "outputs": [],
   "source": [
    "submission = pd.read_csv(r'D:\\workspace_1\\dacon_venv\\test\\dataset\\sample_submission.csv')"
   ]
  },
  {
   "cell_type": "code",
   "execution_count": null,
   "metadata": {
    "pbl_cell_type": "code",
    "step_id": 15028,
    "step_number": 1,
    "tags": []
   },
   "outputs": [
    {
     "data": {
      "text/html": [
       "<div>\n",
       "<style scoped>\n",
       "    .dataframe tbody tr th:only-of-type {\n",
       "        vertical-align: middle;\n",
       "    }\n",
       "\n",
       "    .dataframe tbody tr th {\n",
       "        vertical-align: top;\n",
       "    }\n",
       "\n",
       "    .dataframe thead th {\n",
       "        text-align: right;\n",
       "    }\n",
       "</style>\n",
       "<table border=\"1\" class=\"dataframe\">\n",
       "  <thead>\n",
       "    <tr style=\"text-align: right;\">\n",
       "      <th></th>\n",
       "      <th>ID</th>\n",
       "      <th>stress_score</th>\n",
       "    </tr>\n",
       "  </thead>\n",
       "  <tbody>\n",
       "    <tr>\n",
       "      <th>0</th>\n",
       "      <td>TEST_0000</td>\n",
       "      <td>0.412394</td>\n",
       "    </tr>\n",
       "    <tr>\n",
       "      <th>1</th>\n",
       "      <td>TEST_0001</td>\n",
       "      <td>0.689009</td>\n",
       "    </tr>\n",
       "    <tr>\n",
       "      <th>2</th>\n",
       "      <td>TEST_0002</td>\n",
       "      <td>0.183309</td>\n",
       "    </tr>\n",
       "    <tr>\n",
       "      <th>3</th>\n",
       "      <td>TEST_0003</td>\n",
       "      <td>0.522015</td>\n",
       "    </tr>\n",
       "    <tr>\n",
       "      <th>4</th>\n",
       "      <td>TEST_0004</td>\n",
       "      <td>0.572112</td>\n",
       "    </tr>\n",
       "  </tbody>\n",
       "</table>\n",
       "</div>"
      ],
      "text/plain": [
       "          ID  stress_score\n",
       "0  TEST_0000      0.412394\n",
       "1  TEST_0001      0.689009\n",
       "2  TEST_0002      0.183309\n",
       "3  TEST_0003      0.522015\n",
       "4  TEST_0004      0.572112"
      ]
     },
     "execution_count": 21,
     "metadata": {},
     "output_type": "execute_result"
    }
   ],
   "source": [
    "submission['stress_score'] = pred\n",
    "submission.head()"
   ]
  },
  {
   "cell_type": "code",
   "execution_count": null,
   "metadata": {
    "pbl_cell_type": "code",
    "step_id": 15028,
    "step_number": 1,
    "tags": []
   },
   "outputs": [],
   "source": [
    "submission.to_csv('submit.csv', index=False)"
   ]
  }
 ],
 "metadata": {
  "kernelspec": {
   "display_name": "Python 3 (ipykernel)",
   "language": "python",
   "name": "python3"
  },
  "language_info": {
   "codemirror_mode": {
    "name": "ipython",
    "version": 3
   },
   "file_extension": ".py",
   "mimetype": "text/x-python",
   "name": "python",
   "nbconvert_exporter": "python",
   "pygments_lexer": "ipython3",
   "version": "3.10.6"
  }
 },
 "nbformat": 4,
 "nbformat_minor": 4
}
