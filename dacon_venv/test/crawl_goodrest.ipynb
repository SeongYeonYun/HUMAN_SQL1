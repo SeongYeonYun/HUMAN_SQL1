{
 "cells": [
  {
   "cell_type": "code",
   "execution_count": 3,
   "id": "aba18340",
   "metadata": {},
   "outputs": [
    {
     "name": "stdout",
     "output_type": "stream",
     "text": [
      "Requirement already satisfied: beautifulsoup4 in .\\lib\\site-packages (4.13.4)\n",
      "Requirement already satisfied: soupsieve>1.2 in .\\lib\\site-packages (from beautifulsoup4) (2.7)\n",
      "Requirement already satisfied: typing-extensions>=4.0.0 in .\\lib\\site-packages (from beautifulsoup4) (4.14.0)\n"
     ]
    }
   ],
   "source": [
    "!pip install beautifulsoup4"
   ]
  },
  {
   "cell_type": "code",
   "execution_count": null,
   "id": "a9c7300d",
   "metadata": {},
   "outputs": [],
   "source": [
    "import beautifulsoup4 as bf4"
   ]
  },
  {
   "cell_type": "code",
   "execution_count": null,
   "id": "98a61a55",
   "metadata": {},
   "outputs": [],
   "source": []
  }
 ],
 "metadata": {
  "kernelspec": {
   "display_name": "test",
   "language": "python",
   "name": "python3"
  },
  "language_info": {
   "codemirror_mode": {
    "name": "ipython",
    "version": 3
   },
   "file_extension": ".py",
   "mimetype": "text/x-python",
   "name": "python",
   "nbconvert_exporter": "python",
   "pygments_lexer": "ipython3",
   "version": "3.10.6"
  }
 },
 "nbformat": 4,
 "nbformat_minor": 5
}
