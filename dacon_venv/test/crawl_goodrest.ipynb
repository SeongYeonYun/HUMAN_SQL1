{
 "cells": [
  {
   "cell_type": "code",
   "execution_count": null,
   "id": "aba18340",
   "metadata": {},
   "outputs": [],
   "source": [
    "import bs4 #beautifulsoup를 호출하는 법\n",
    "import pandas as pd\n",
    "\n",
    "#굳이 학원에서 셀리늄 까지 쓰진 말자\n"
   ]
  },
  {
   "cell_type": "code",
   "execution_count": 10,
   "id": "a9c7300d",
   "metadata": {},
   "outputs": [],
   "source": [
    "url = \"https://goodprice.go.kr/bssh/bsshList.do\""
   ]
  },
  {
   "cell_type": "code",
   "execution_count": null,
   "id": "98a61a55",
   "metadata": {},
   "outputs": [],
   "source": []
  }
 ],
 "metadata": {
  "kernelspec": {
   "display_name": "test",
   "language": "python",
   "name": "python3"
  },
  "language_info": {
   "codemirror_mode": {
    "name": "ipython",
    "version": 3
   },
   "file_extension": ".py",
   "mimetype": "text/x-python",
   "name": "python",
   "nbconvert_exporter": "python",
   "pygments_lexer": "ipython3",
   "version": "3.10.6"
  }
 },
 "nbformat": 4,
 "nbformat_minor": 5
}
