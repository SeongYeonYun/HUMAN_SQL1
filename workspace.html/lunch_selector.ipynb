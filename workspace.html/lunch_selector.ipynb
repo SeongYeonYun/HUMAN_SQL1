{
 "cells": [
  {
   "cell_type": "code",
   "execution_count": 46,
   "id": "f032355f-b798-4a42-9552-1dc5d243b536",
   "metadata": {},
   "outputs": [],
   "source": [
    "import random as rd"
   ]
  },
  {
   "cell_type": "code",
   "execution_count": 47,
   "id": "d4829a22-a8f2-47d3-9b51-5217a0e2d8ef",
   "metadata": {},
   "outputs": [],
   "source": [
    "menu_dic = {\"짜장면\" : 0, \"돈가스\" : 0,\"우동+김밥\" : 0, \"모밀\" : 0 , \"편밥\" : 0,\"비빔밥\" : 0, \"콩나물 국밥\" : 0,\"냉면\": 0,\"햄버거\" : 0}"
   ]
  },
  {
   "cell_type": "code",
   "execution_count": 48,
   "id": "c0af8519-12db-4cc0-98af-aa94f884cee9",
   "metadata": {},
   "outputs": [],
   "source": [
    "menu_list = [\"짜장면\", \"돈가스\", \"우동+김밥\",\"모밀\", \"편밥\",\"비빔밥\", \"콩나물 국밥\", \"냉면\", \"햄버거\"]"
   ]
  },
  {
   "cell_type": "code",
   "execution_count": 49,
   "id": "ddaa1c1e-d688-4918-b9a6-6d49489e59cc",
   "metadata": {},
   "outputs": [
    {
     "name": "stdout",
     "output_type": "stream",
     "text": [
      "['짜장면', '돈가스', '우동+김밥', '모밀', '편밥', '비빔밥', '콩나물 국밥', '냉면', '햄버거']\n"
     ]
    }
   ],
   "source": [
    "print(menu_list)"
   ]
  },
  {
   "cell_type": "code",
   "execution_count": 50,
   "id": "6ff9b0d4-9940-47c4-ba54-501fa31f0060",
   "metadata": {},
   "outputs": [
    {
     "data": {
      "text/plain": [
       "8"
      ]
     },
     "execution_count": 50,
     "metadata": {},
     "output_type": "execute_result"
    }
   ],
   "source": [
    "rd.randint(1,len(menu_list))"
   ]
  },
  {
   "cell_type": "code",
   "execution_count": 51,
   "id": "b7ecc1fc-517c-47fa-be47-b2d72aaa8179",
   "metadata": {},
   "outputs": [],
   "source": [
    "for x in range (10000):\n",
    "    y = rd.randint(1,len(menu_list))\n",
    "    # print(menu_list[y-1])\n",
    "    menu_dic[menu_list[y-1]] = menu_dic[menu_list[y-1]] + 1\n",
    "    "
   ]
  },
  {
   "cell_type": "code",
   "execution_count": 52,
   "id": "8c7e1008-e950-427e-b5e2-df214a1b3306",
   "metadata": {},
   "outputs": [
    {
     "data": {
      "text/plain": [
       "{'짜장면': 1135,\n",
       " '돈가스': 1096,\n",
       " '우동+김밥': 1081,\n",
       " '모밀': 1081,\n",
       " '편밥': 1114,\n",
       " '비빔밥': 1126,\n",
       " '콩나물 국밥': 1148,\n",
       " '냉면': 1130,\n",
       " '햄버거': 1089}"
      ]
     },
     "execution_count": 52,
     "metadata": {},
     "output_type": "execute_result"
    }
   ],
   "source": [
    "menu_dic"
   ]
  },
  {
   "cell_type": "code",
   "execution_count": 53,
   "id": "89d94ff2-4275-41c1-8875-f4ad8ada7671",
   "metadata": {},
   "outputs": [],
   "source": [
    "#이제 여기서 뜨거운 음식, 차가운 음식등 좀더 색다른 변수를 추가하고, 네이버 지도 크롤링으로 지도와 메뉴 내역을 가져와보자\n",
    "#네이버 지도 api를 가져와서 검색기능 추가, iframe\n",
    "#카테고리를 조금 넣어보자\n",
    "#아니면 근처 식당 리스트를 가져 와서 식당을 선택하는 기능을 만들자"
   ]
  },
  {
   "cell_type": "code",
   "execution_count": null,
   "id": "88c20c16-a10a-4bcc-b631-4d622c65c908",
   "metadata": {},
   "outputs": [],
   "source": []
  }
 ],
 "metadata": {
  "kernelspec": {
   "display_name": "Python 3",
   "language": "python",
   "name": "python3"
  },
  "language_info": {
   "codemirror_mode": {
    "name": "ipython",
    "version": 3
   },
   "file_extension": ".py",
   "mimetype": "text/x-python",
   "name": "python",
   "nbconvert_exporter": "python",
   "pygments_lexer": "ipython3",
   "version": "3.10.6"
  }
 },
 "nbformat": 4,
 "nbformat_minor": 5
}
